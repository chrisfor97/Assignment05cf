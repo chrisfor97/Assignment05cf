{
 "cells": [
  {
   "attachments": {},
   "cell_type": "markdown",
   "metadata": {},
   "source": [
    "# DS400: Assignment III (Python)\n",
    "\n",
    "##### Christopher Forschner (Student ID: 6290771)\n",
    "##### January 31, 2022\n",
    "I worked together with Janik Müller and Simon Andres in Python and R"
   ]
  },
  {
   "attachments": {},
   "cell_type": "markdown",
   "metadata": {},
   "source": [
    "## Setting up a new GitHub repository\n",
    "(1) Register on github.com in case you have not done this already.<br>\n",
    "(2) Initialize a new public repository for this assignment on GitHub.<br>\n",
    "(3) For the following exercises of this assignment, follow the standard Git workflow (i.e., pull the latest\n",
    "version of the project to your local computer, then stage, commit, and push all the modifications that you\n",
    "make throughout the project). Every logical programming step should be well documented on GitHub\n",
    "with a meaningful commit message, so that other people (e.g., your course instructor) can follow and\n",
    "understand the development history. You can do this either using Shell commands or a Git GUI of your\n",
    "choice. <br>\n",
    "(4) In the HTML file that you submit, include the hyperlink to the project repository (e.g., https://github.\n",
    "com/yourUserName/yourProjectName)"
   ]
  },
  {
   "attachments": {},
   "cell_type": "markdown",
   "metadata": {},
   "source": [
    "https://github.com/chrisfor97/Assignment05cf.git"
   ]
  },
  {
   "attachments": {},
   "cell_type": "markdown",
   "metadata": {},
   "source": [
    "## Getting to know the API\n",
    "(5) Visit the documentation website for the API provided by ticketmaster.com (see here). Familiarize yourself\n",
    "with the features and functionalities of the Ticketmaster Discovery API. Have a particular look at\n",
    "rate limits.<br>"
   ]
  },
  {
   "attachments": {},
   "cell_type": "markdown",
   "metadata": {},
   "source": [
    "Features of the Ticketmaster Discovery API:<br>\n",
    "* Searching events by keyword in a certain location (lat/long)\n",
    "* Getting events for a particular artist OR venue in a specific country/city/zip code/DMA/etc\n",
    "* Getting hi-res images for a particular event or artist.\n",
    "* Search events of a certain genre in a particular location for a certain promoter\n",
    "* rate limits: 5000 API calls per day and rate limitation of 5 requests per second\n",
    "+ increasing rate limit is also possible but specific conditions need to be fullfilled. However, fo this Assignment, this is not necessary\n"
   ]
  },
  {
   "attachments": {},
   "cell_type": "markdown",
   "metadata": {},
   "source": [
    "(6) Whithin the scope of this assignment, you do not have to request your own API key. Instead retrieve\n",
    "a valid key from the API Explorer. This API key enables you to perform the GET requests needed\n",
    "throughout this assignment. Even though this API key is not secret per se (it is publicly visible on the\n",
    "API Explorer website), please comply to the common secrecy practices discussed in the lecture and the\n",
    "tutorial: Treat the API key as a secret token. Your API key should neither appear in the code that you\n",
    "are submitting nor in your public GitHub repository.<br>"
   ]
  },
  {
   "cell_type": "code",
   "execution_count": 1,
   "metadata": {},
   "outputs": [],
   "source": [
    "import os\n",
    "os.chdir('C:/Users/chris/Desktop/Uni/Uni_tuebingen/semester_1/dspm/Assignment05cf')"
   ]
  },
  {
   "cell_type": "code",
   "execution_count": 2,
   "metadata": {},
   "outputs": [],
   "source": [
    "with open(\"ticketmaster_api.py\") as script:\n",
    "    exec(script.read())"
   ]
  },
  {
   "attachments": {},
   "cell_type": "markdown",
   "metadata": {},
   "source": [
    "## Interacting with the API - the basics\n",
    "(7) Perform a first GET request, that searches for event venues in Germany (countryCode = \"DE\"). Extract\n",
    "the content from the response object and inspect the resulting list. Describe what you can see.<br>"
   ]
  },
  {
   "cell_type": "code",
   "execution_count": 3,
   "metadata": {},
   "outputs": [],
   "source": [
    "#importing libraries\n",
    "import numpy as np\n",
    "import pandas as pd\n",
    "import requests\n",
    "import time"
   ]
  },
  {
   "cell_type": "code",
   "execution_count": 4,
   "metadata": {},
   "outputs": [
    {
     "data": {
      "text/plain": [
       "{'_embedded': {'venues': [{'name': 'Grosse Freiheit 36',\n",
       "    'type': 'venue',\n",
       "    'id': 'KovZpZAn6vEA',\n",
       "    'test': False,\n",
       "    'url': 'http://www.ticketmaster.de/venue/287636',\n",
       "    'locale': 'en-de',\n",
       "    'images': [{'ratio': '16_9',\n",
       "      'url': 'https://s1.ticketm.net/dbimages/962v.',\n",
       "      'width': 205,\n",
       "      'height': 115,\n",
       "      'fallback': False}],\n",
       "    'postalCode': '22767',\n",
       "    'timezone': 'Europe/Berlin',\n",
       "    'city': {'name': 'Hamburg'},\n",
       "    'country': {'name': 'Germany', 'countryCode': 'DE'},\n",
       "    'address': {'line1': 'Grosse Freiheit 36'},\n",
       "    'location': {'longitude': '9.957905', 'latitude': '53.551187'},\n",
       "    'markets': [{'name': 'Germany', 'id': '210'}],\n",
       "    'dmas': [{'id': 610}],\n",
       "    'boxOfficeInfo': {'phoneNumberDetail': 'Telefon tagsüber: (040) 31 77 78- 0 Große Freiheit 36 22767 Hamburg E-Mail: info@grossefreiheit36.de'},\n",
       "    'upcomingEvents': {'_total': 1, 'mfx-de': 1, '_filtered': 0},\n",
       "    'ada': {'adaPhones': '+49.(0)1805 - 969 0000 (14 Ct./Min.)',\n",
       "     'adaCustomCopy': 'Sollten Sie besondere Sitzplatzwünsche haben, prüfen Sie bitte die Informationsseite des Veranstaltungsortes. Für weitergehende Informationen steht Ihnen unsere Hotline unter +49.(0)1805 - 969 0000 (14 Ct./Min.) zur Verfügung.',\n",
       "     'adaHours': 'Montag bis Freitag, in der Zeit von 9.00-19.00 Uhr sowie sonnabends von 10.00-18.00 Uhr zur Verfügung.'},\n",
       "    '_links': {'self': {'href': '/discovery/v2/venues/KovZpZAn6vEA?locale=en-de'}}},\n",
       "   {'name': 'Gruenspan',\n",
       "    'type': 'venue',\n",
       "    'id': 'KovZpZAneakA',\n",
       "    'test': False,\n",
       "    'url': 'http://www.ticketmaster.de/venue/287155',\n",
       "    'locale': 'en-de',\n",
       "    'images': [{'ratio': '16_9',\n",
       "      'url': 'https://s1.ticketm.net/dbimages/2057v.',\n",
       "      'width': 205,\n",
       "      'height': 115,\n",
       "      'fallback': False}],\n",
       "    'postalCode': '22767',\n",
       "    'timezone': 'Europe/Berlin',\n",
       "    'city': {'name': 'Hamburg'},\n",
       "    'country': {'name': 'Germany', 'countryCode': 'DE'},\n",
       "    'address': {'line1': 'Grosse Freiheit 58'},\n",
       "    'location': {'longitude': '9.958075', 'latitude': '53.551885'},\n",
       "    'markets': [{'name': 'Germany', 'id': '210'}],\n",
       "    'dmas': [{'id': 610}],\n",
       "    'boxOfficeInfo': {'phoneNumberDetail': 'Gruenspan Große Freiheit 58 22767 Hamburg Tel: 040-313616 mail: info@gruenspan.de web: www.gruenspan.de'},\n",
       "    'upcomingEvents': {'_total': 2, 'mfx-de': 2, '_filtered': 0},\n",
       "    'ada': {'adaPhones': '+49.(0)1805 - 969 0000 (14 Ct./Min.)',\n",
       "     'adaCustomCopy': 'Sollten Sie besondere Sitzplatzwünsche haben, prüfen Sie bitte die Informationsseite des Veranstaltungsortes. Für weitergehende Informationen steht Ihnen unsere Hotline unter +49.(0)1805 - 969 0000 (14 Ct./Min.) zur Verfügung.',\n",
       "     'adaHours': 'Montag bis Freitag, in der Zeit von 9.00-19.00 Uhr sowie sonnabends von 10.00-18.00 Uhr zur Verfügung.'},\n",
       "    '_links': {'self': {'href': '/discovery/v2/venues/KovZpZAneakA?locale=en-de'}}},\n",
       "   {'name': 'Huxleys Neue Welt',\n",
       "    'type': 'venue',\n",
       "    'id': 'KovZpZAtnIJA',\n",
       "    'test': False,\n",
       "    'url': 'http://www.ticketmaster.de/venue/286842',\n",
       "    'locale': 'en-de',\n",
       "    'images': [{'ratio': '16_9',\n",
       "      'url': 'https://s1.ticketm.net/dbimages/2146v.jpg',\n",
       "      'width': 205,\n",
       "      'height': 115,\n",
       "      'fallback': False}],\n",
       "    'postalCode': '10967',\n",
       "    'timezone': 'Europe/Berlin',\n",
       "    'city': {'name': 'Berlin'},\n",
       "    'country': {'name': 'Germany', 'countryCode': 'DE'},\n",
       "    'address': {'line1': 'Hasenheide 107 – 113'},\n",
       "    'location': {'longitude': '13.42138', 'latitude': '52.486391'},\n",
       "    'markets': [{'name': 'Germany', 'id': '210'}],\n",
       "    'dmas': [{'id': 610}],\n",
       "    'boxOfficeInfo': {'phoneNumberDetail': 'Huxleys Neue Welt Hasenheide 107-113 10967 Berlin Neukölln Tel 030 621 10 28'},\n",
       "    'upcomingEvents': {'_total': 9, 'mfx-de': 9, '_filtered': 0},\n",
       "    'ada': {'adaPhones': '+49.(0)1805 - 969 0000 (14 Ct./Min.)',\n",
       "     'adaCustomCopy': 'Sollten Sie besondere Sitzplatzwünsche haben, prüfen Sie bitte die Informationsseite des Veranstaltungsortes. Für weitergehende Informationen steht Ihnen unsere Hotline unter +49.(0)1805 - 969 0000 (14 Ct./Min.) zur Verfügung.',\n",
       "     'adaHours': 'Montag bis Freitag, in der Zeit von 9.00-19.00 Uhr sowie sonnabends von 10.00-18.00 Uhr zur Verfügung.'},\n",
       "    '_links': {'self': {'href': '/discovery/v2/venues/KovZpZAtnIJA?locale=en-de'}}},\n",
       "   {'name': 'Zentrum am Park',\n",
       "    'type': 'venue',\n",
       "    'id': 'Z598xZC2Z161k',\n",
       "    'test': False,\n",
       "    'url': 'https://www.ticketmaster.de/venue/zentrum-am-park-emmelshausen-tickets/elszentrum/701',\n",
       "    'locale': 'de-de',\n",
       "    'postalCode': '56281',\n",
       "    'timezone': 'Europe/Berlin',\n",
       "    'city': {'name': 'Emmelshausen'},\n",
       "    'country': {'name': 'Germany', 'countryCode': 'DE'},\n",
       "    'address': {'line1': 'Rhein-Mosel-Straße 45'},\n",
       "    'location': {'longitude': '7.55656', 'latitude': '50.15544'},\n",
       "    'upcomingEvents': {'_total': 1, 'mfx-de': 1, '_filtered': 0},\n",
       "    '_links': {'self': {'href': '/discovery/v2/venues/Z598xZC2Z161k?locale=de-de'}}},\n",
       "   {'name': 'Stadthalle (Theatersaal)',\n",
       "    'type': 'venue',\n",
       "    'id': 'Z598xZC2Z1aAF',\n",
       "    'test': False,\n",
       "    'url': 'https://www.ticketmaster.de/venue/stadthalle-theatersaal--mulheim-tickets/mrustadtth/711',\n",
       "    'locale': 'de-de',\n",
       "    'postalCode': '45479',\n",
       "    'timezone': 'Europe/Berlin',\n",
       "    'city': {'name': 'Mülheim'},\n",
       "    'country': {'name': 'Germany', 'countryCode': 'DE'},\n",
       "    'address': {'line1': 'Theodor-Heuss-Platz 1'},\n",
       "    'location': {'longitude': '6.87471', 'latitude': '51.42778'},\n",
       "    'upcomingEvents': {'_total': 1, 'mfx-de': 1, '_filtered': 0},\n",
       "    '_links': {'self': {'href': '/discovery/v2/venues/Z598xZC2Z1aAF?locale=de-de'}}},\n",
       "   {'name': 'Schlossgarten',\n",
       "    'type': 'venue',\n",
       "    'id': 'Z598xZC2Z6Fv7',\n",
       "    'test': False,\n",
       "    'url': 'https://www.ticketmaster.de/venue/schlossgarten-bruchsal-tickets/bruparkanl/701',\n",
       "    'locale': 'de-de',\n",
       "    'postalCode': '76646',\n",
       "    'timezone': 'Europe/Berlin',\n",
       "    'city': {'name': 'Bruchsal'},\n",
       "    'country': {'name': 'Germany', 'countryCode': 'DE'},\n",
       "    'address': {'line1': 'Schloss Bruchsal'},\n",
       "    'location': {'longitude': '8.59908', 'latitude': '49.12692'},\n",
       "    'upcomingEvents': {'_total': 1, 'mfx-de': 1, '_filtered': 0},\n",
       "    '_links': {'self': {'href': '/discovery/v2/venues/Z598xZC2Z6Fv7?locale=de-de'}}},\n",
       "   {'name': 'Stadthalle',\n",
       "    'type': 'venue',\n",
       "    'id': 'Z598xZC2Z6ve1',\n",
       "    'test': False,\n",
       "    'url': 'https://www.ticketmaster.de/venue/stadthalle-hockenheim-tickets/hokstadtha/701',\n",
       "    'locale': 'de-de',\n",
       "    'postalCode': '68766',\n",
       "    'timezone': 'Europe/Berlin',\n",
       "    'city': {'name': 'Hockenheim'},\n",
       "    'country': {'name': 'Germany', 'countryCode': 'DE'},\n",
       "    'address': {'line1': 'Rathausstraße 3'},\n",
       "    'location': {'longitude': '8.54908', 'latitude': '49.31849'},\n",
       "    'upcomingEvents': {'_total': 1, 'mfx-de': 1, '_filtered': 0},\n",
       "    '_links': {'self': {'href': '/discovery/v2/venues/Z598xZC2Z6ve1?locale=de-de'}}},\n",
       "   {'name': 'FZW',\n",
       "    'type': 'venue',\n",
       "    'id': 'Z598xZC2Z71ke',\n",
       "    'test': False,\n",
       "    'url': 'https://www.ticketmaster.de/venue/fzw-dortmund-tickets/dorfzw/701',\n",
       "    'locale': 'de-de',\n",
       "    'postalCode': '44263',\n",
       "    'timezone': 'Europe/Berlin',\n",
       "    'city': {'name': 'Dortmund'},\n",
       "    'country': {'name': 'Germany', 'countryCode': 'DE'},\n",
       "    'address': {'line1': 'Ritterstraße 20'},\n",
       "    'location': {'longitude': '7.4501', 'latitude': '51.51481'},\n",
       "    'upcomingEvents': {'_total': 1, 'mfx-de': 1, '_filtered': 0},\n",
       "    '_links': {'self': {'href': '/discovery/v2/venues/Z598xZC2Z71ke?locale=de-de'}}},\n",
       "   {'name': 'Arena Trier',\n",
       "    'type': 'venue',\n",
       "    'id': 'Z598xZC2ZAadk',\n",
       "    'test': False,\n",
       "    'url': 'https://www.ticketmaster.de/venue/arena-trier-trier-tickets/triarena/701',\n",
       "    'locale': 'de-de',\n",
       "    'postalCode': '54292',\n",
       "    'timezone': 'Europe/Berlin',\n",
       "    'city': {'name': 'Trier'},\n",
       "    'country': {'name': 'Germany', 'countryCode': 'DE'},\n",
       "    'address': {'line1': 'Fort-Worth-Platz 1'},\n",
       "    'location': {'longitude': '6.66426', 'latitude': '49.77183'},\n",
       "    'upcomingEvents': {'_total': 8, 'mfx-de': 8, '_filtered': 0},\n",
       "    '_links': {'self': {'href': '/discovery/v2/venues/Z598xZC2ZAadk?locale=de-de'}}},\n",
       "   {'name': 'Eissporthalle',\n",
       "    'type': 'venue',\n",
       "    'id': 'Z598xZC2ZFAk7',\n",
       "    'test': False,\n",
       "    'url': 'https://www.ticketmaster.de/venue/eissporthalle-memmingen-tickets/mmmeisspor/701',\n",
       "    'locale': 'de-de',\n",
       "    'postalCode': '87700',\n",
       "    'timezone': 'Europe/Berlin',\n",
       "    'city': {'name': 'Memmingen'},\n",
       "    'country': {'name': 'Germany', 'countryCode': 'DE'},\n",
       "    'address': {'line1': 'Hühnerbergstraße 19'},\n",
       "    'location': {'longitude': '10.16293', 'latitude': '47.97999'},\n",
       "    'upcomingEvents': {'_total': 3, 'mfx-de': 3, '_filtered': 0},\n",
       "    '_links': {'self': {'href': '/discovery/v2/venues/Z598xZC2ZFAk7?locale=de-de'}}},\n",
       "   {'name': 'Stadthalle Gersthofen',\n",
       "    'type': 'venue',\n",
       "    'id': 'Z598xZC2ZFAv7',\n",
       "    'test': False,\n",
       "    'url': 'https://www.ticketmaster.de/venue/stadthalle-gersthofen-gersthofen-tickets/augstadtha/701',\n",
       "    'locale': 'de-de',\n",
       "    'images': [{'ratio': '16_9',\n",
       "      'url': 'https://media.ticketmaster.eu/germany/a0c2196cf724714be0e9c7631ca0859a.png',\n",
       "      'width': 205,\n",
       "      'height': 115,\n",
       "      'fallback': False}],\n",
       "    'postalCode': '86368',\n",
       "    'timezone': 'Europe/Berlin',\n",
       "    'city': {'name': 'Gersthofen'},\n",
       "    'country': {'name': 'Germany', 'countryCode': 'DE'},\n",
       "    'address': {'line1': 'Rathausplatz 2'},\n",
       "    'location': {'longitude': '10.87803', 'latitude': '48.42433'},\n",
       "    'upcomingEvents': {'_total': 1, 'mfx-de': 1, '_filtered': 0},\n",
       "    '_links': {'self': {'href': '/discovery/v2/venues/Z598xZC2ZFAv7?locale=de-de'}}},\n",
       "   {'name': 'Feierwerk (Kranhalle)',\n",
       "    'type': 'venue',\n",
       "    'id': 'Z598xZC2ZFdee',\n",
       "    'test': False,\n",
       "    'url': 'https://www.ticketmaster.de/venue/feierwerk-kranhalle--munchen-tickets/muefeierwk/701',\n",
       "    'locale': 'de-de',\n",
       "    'postalCode': '81373',\n",
       "    'timezone': 'Europe/Berlin',\n",
       "    'city': {'name': 'Munich'},\n",
       "    'country': {'name': 'Germany', 'countryCode': 'DE'},\n",
       "    'address': {'line1': 'Hansastraße 39-41'},\n",
       "    'location': {'longitude': '11.53389', 'latitude': '48.12914'},\n",
       "    'upcomingEvents': {'_total': 1, 'mfx-de': 1, '_filtered': 0},\n",
       "    '_links': {'self': {'href': '/discovery/v2/venues/Z598xZC2ZFdee?locale=de-de'}}},\n",
       "   {'name': 'Feierwerk (Hansa 39)',\n",
       "    'type': 'venue',\n",
       "    'id': 'Z598xZC2ZFdek',\n",
       "    'test': False,\n",
       "    'url': 'https://www.ticketmaster.de/venue/feierwerk-hansa-39--munchen-tickets/muehansane/701',\n",
       "    'locale': 'de-de',\n",
       "    'postalCode': '81373',\n",
       "    'timezone': 'Europe/Berlin',\n",
       "    'city': {'name': 'Munich'},\n",
       "    'country': {'name': 'Germany', 'countryCode': 'DE'},\n",
       "    'address': {'line1': 'Hansastraße 39-41'},\n",
       "    'location': {'longitude': '11.53389', 'latitude': '48.12914'},\n",
       "    'upcomingEvents': {'_total': 2, 'mfx-de': 2, '_filtered': 0},\n",
       "    '_links': {'self': {'href': '/discovery/v2/venues/Z598xZC2ZFdek?locale=de-de'}}},\n",
       "   {'name': 'Burghof - STIMMEN-Festival',\n",
       "    'type': 'venue',\n",
       "    'id': 'Z598xZC2ZFvA1',\n",
       "    'test': False,\n",
       "    'url': 'https://www.ticketmaster.de/venue/burghof-stimmen-festival-lorrach-tickets/loeburghof/701',\n",
       "    'locale': 'de-de',\n",
       "    'postalCode': '79539',\n",
       "    'timezone': 'Europe/Berlin',\n",
       "    'city': {'name': 'Lörrach'},\n",
       "    'country': {'name': 'Germany', 'countryCode': 'DE'},\n",
       "    'address': {'line1': 'Herrenstraße 5'},\n",
       "    'location': {'longitude': '7.65919', 'latitude': '47.61109'},\n",
       "    'upcomingEvents': {'_total': 1, 'mfx-de': 1, '_filtered': 0},\n",
       "    '_links': {'self': {'href': '/discovery/v2/venues/Z598xZC2ZFvA1?locale=de-de'}}},\n",
       "   {'name': 'Schiesssportanlage',\n",
       "    'type': 'venue',\n",
       "    'id': 'Z598xZC2Zakke',\n",
       "    'test': False,\n",
       "    'url': 'https://www.ticketmaster.de/venue/schiesssportanlage-neu-wulmstorf-tickets/nwuschiess/701',\n",
       "    'locale': 'de-de',\n",
       "    'postalCode': '21629',\n",
       "    'timezone': 'Europe/Berlin',\n",
       "    'city': {'name': 'Neu Wulmstorf'},\n",
       "    'country': {'name': 'Germany', 'countryCode': 'DE'},\n",
       "    'address': {'line1': 'Wesenberg 1'},\n",
       "    'location': {'longitude': '9.79941', 'latitude': '53.45047'},\n",
       "    'upcomingEvents': {'_total': 1, 'mfx-de': 1, '_filtered': 0},\n",
       "    '_links': {'self': {'href': '/discovery/v2/venues/Z598xZC2Zakke?locale=de-de'}}},\n",
       "   {'name': 'WUNDERINO ARENA',\n",
       "    'type': 'venue',\n",
       "    'id': 'Z598xZC2Zd7v1',\n",
       "    'test': False,\n",
       "    'url': 'https://www.ticketmaster.de/venue/wunderino-arena-kiel-tickets/kiesparkas/701',\n",
       "    'locale': 'de-de',\n",
       "    'postalCode': '24103',\n",
       "    'timezone': 'Europe/Berlin',\n",
       "    'city': {'name': 'Kiel'},\n",
       "    'country': {'name': 'Germany', 'countryCode': 'DE'},\n",
       "    'address': {'line1': 'Europaplatz 1'},\n",
       "    'location': {'longitude': '10.13139', 'latitude': '54.32057'},\n",
       "    'upcomingEvents': {'_total': 1, 'mfx-de': 1, '_filtered': 0},\n",
       "    '_links': {'self': {'href': '/discovery/v2/venues/Z598xZC2Zd7v1?locale=de-de'}}},\n",
       "   {'name': 'Stadtpark Open Air',\n",
       "    'type': 'venue',\n",
       "    'id': 'Z598xZC2Ze11e',\n",
       "    'test': False,\n",
       "    'url': 'https://www.ticketmaster.de/venue/stadtpark-open-air-hamburg-tickets/hamstadtpf/701',\n",
       "    'locale': 'de-de',\n",
       "    'postalCode': '22303',\n",
       "    'timezone': 'Europe/Berlin',\n",
       "    'city': {'name': 'Hamburg'},\n",
       "    'country': {'name': 'Germany', 'countryCode': 'DE'},\n",
       "    'address': {'line1': 'Saarlandstraße / Ecke Jahnring'},\n",
       "    'location': {'longitude': '10.0295', 'latitude': '53.60036'},\n",
       "    'upcomingEvents': {'_total': 3, 'mfx-de': 3, '_filtered': 0},\n",
       "    '_links': {'self': {'href': '/discovery/v2/venues/Z598xZC2Ze11e?locale=de-de'}}},\n",
       "   {'name': 'Laeiszhalle (Großer Saal)',\n",
       "    'type': 'venue',\n",
       "    'id': 'Z598xZC2Ze6ek',\n",
       "    'test': False,\n",
       "    'url': 'https://www.ticketmaster.de/venue/laeiszhalle-grosser-saal--hamburg-tickets/hamlaieszg/701',\n",
       "    'locale': 'de-de',\n",
       "    'postalCode': '20355',\n",
       "    'timezone': 'Europe/Berlin',\n",
       "    'city': {'name': 'Hamburg'},\n",
       "    'country': {'name': 'Germany', 'countryCode': 'DE'},\n",
       "    'address': {'line1': 'Johannes-Brahms-Platz'},\n",
       "    'location': {'longitude': '9.98061', 'latitude': '53.55538'},\n",
       "    'upcomingEvents': {'_total': 2, 'mfx-de': 2, '_filtered': 0},\n",
       "    '_links': {'self': {'href': '/discovery/v2/venues/Z598xZC2Ze6ek?locale=de-de'}}},\n",
       "   {'name': 'Friedrich-Ebert-Halle',\n",
       "    'type': 'venue',\n",
       "    'id': 'Z598xZC2Zeadk',\n",
       "    'test': False,\n",
       "    'url': 'https://www.ticketmaster.de/venue/friedrich-ebert-halle-hamburg-tickets/hamfriedri/701',\n",
       "    'locale': 'de-de',\n",
       "    'postalCode': '21075',\n",
       "    'timezone': 'Europe/Berlin',\n",
       "    'city': {'name': 'Hamburg'},\n",
       "    'country': {'name': 'Germany', 'countryCode': 'DE'},\n",
       "    'address': {'line1': 'Alter Postweg 30-38'},\n",
       "    'location': {'longitude': '9.96507', 'latitude': '53.46498'},\n",
       "    'upcomingEvents': {'_total': 1, 'mfx-de': 1, '_filtered': 0},\n",
       "    '_links': {'self': {'href': '/discovery/v2/venues/Z598xZC2Zeadk?locale=de-de'}}},\n",
       "   {'name': 'myticket Jahrhunderthalle',\n",
       "    'type': 'venue',\n",
       "    'id': 'Z598xZC2ZkF6F',\n",
       "    'test': False,\n",
       "    'url': 'https://www.ticketmaster.de/venue/myticket-jahrhunderthalle-frankfurt-am-main-tickets/famjahrkup/701',\n",
       "    'locale': 'de-de',\n",
       "    'images': [{'ratio': '16_9',\n",
       "      'url': 'https://media.ticketmaster.eu/germany/a73a35f3fdad97e3e12525ff6a9152db.jpg',\n",
       "      'width': 205,\n",
       "      'height': 115,\n",
       "      'fallback': False}],\n",
       "    'postalCode': '65929',\n",
       "    'timezone': 'Europe/Berlin',\n",
       "    'city': {'name': 'Frankfurt am Main'},\n",
       "    'country': {'name': 'Germany', 'countryCode': 'DE'},\n",
       "    'address': {'line1': 'Pfaffenwiese 301'},\n",
       "    'location': {'longitude': '8.51972', 'latitude': '50.09914'},\n",
       "    'upcomingEvents': {'_total': 4, 'mfx-de': 4, '_filtered': 0},\n",
       "    '_links': {'self': {'href': '/discovery/v2/venues/Z598xZC2ZkF6F?locale=de-de'}}}]},\n",
       " '_links': {'first': {'href': '/discovery/v2/venues?countryCode=DE&locale=*&page=0&size=20'},\n",
       "  'self': {'href': '/discovery/v2/venues?countryCode=DE&locale=*'},\n",
       "  'next': {'href': '/discovery/v2/venues?countryCode=DE&locale=*&page=1&size=20'},\n",
       "  'last': {'href': '/discovery/v2/venues?countryCode=DE&locale=*&page=646&size=20'}},\n",
       " 'page': {'size': 20, 'totalElements': 12935, 'totalPages': 647, 'number': 0}}"
      ]
     },
     "execution_count": 4,
     "metadata": {},
     "output_type": "execute_result"
    }
   ],
   "source": [
    "#perform the get request\n",
    "tickets_content=requests.get('https://app.ticketmaster.com/discovery/v2/venues',\n",
    "                params = {\"apikey\": api_key1, \"countryCode\": \"DE\",'locale':'*'}).json()  \n",
    "tickets_content #checking if request worked correctly                                   "
   ]
  },
  {
   "attachments": {},
   "cell_type": "markdown",
   "metadata": {},
   "source": [
    "We see that the output of the request is a nested dictionary. The venues are stored in [\"_embedded\"][\"venues\"] and comtains 20 elements. In the dicitonary  'page', we have the total numbers of pages 647 and the total number of elements. Therefore, the API contains 12934 elements."
   ]
  },
  {
   "cell_type": "code",
   "execution_count": 5,
   "metadata": {},
   "outputs": [
    {
     "name": "stdout",
     "output_type": "stream",
     "text": [
      "<class 'list'> <class 'dict'>\n"
     ]
    },
    {
     "data": {
      "text/plain": [
       "647"
      ]
     },
     "execution_count": 5,
     "metadata": {},
     "output_type": "execute_result"
    }
   ],
   "source": [
    "#extract content from the response object\n",
    "len(tickets_content['_embedded']['venues']) #we have 20 entries in this list\n",
    "a=type(tickets_content['_embedded']['venues'])\n",
    "b=type(tickets_content['_embedded']['venues'][0]) #exemplary check type of the first entry of this list \n",
    "print(a,b)\n",
    "pages=tickets_content['page']['totalPages']\n",
    "pages"
   ]
  },
  {
   "attachments": {},
   "cell_type": "markdown",
   "metadata": {},
   "source": [
    "(8) Extract the name, the city, the postalCode and address, as well as the url and the longitude\n",
    "and latitude of the venues to a data frame."
   ]
  },
  {
   "cell_type": "code",
   "execution_count": 6,
   "metadata": {},
   "outputs": [
    {
     "name": "stdout",
     "output_type": "stream",
     "text": [
      "                          name               city postalCode  \\\n",
      "0           Grosse Freiheit 36            Hamburg      22767   \n",
      "1                    Gruenspan            Hamburg      22767   \n",
      "2            Huxleys Neue Welt             Berlin      10967   \n",
      "3              Zentrum am Park       Emmelshausen      56281   \n",
      "4     Stadthalle (Theatersaal)            Mülheim      45479   \n",
      "5                Schlossgarten           Bruchsal      76646   \n",
      "6                   Stadthalle         Hockenheim      68766   \n",
      "7                          FZW           Dortmund      44263   \n",
      "8                  Arena Trier              Trier      54292   \n",
      "9                Eissporthalle          Memmingen      87700   \n",
      "10       Stadthalle Gersthofen         Gersthofen      86368   \n",
      "11       Feierwerk (Kranhalle)             Munich      81373   \n",
      "12        Feierwerk (Hansa 39)             Munich      81373   \n",
      "13  Burghof - STIMMEN-Festival            Lörrach      79539   \n",
      "14          Schiesssportanlage      Neu Wulmstorf      21629   \n",
      "15             WUNDERINO ARENA               Kiel      24103   \n",
      "16          Stadtpark Open Air            Hamburg      22303   \n",
      "17   Laeiszhalle (Großer Saal)            Hamburg      20355   \n",
      "18       Friedrich-Ebert-Halle            Hamburg      21075   \n",
      "19   myticket Jahrhunderthalle  Frankfurt am Main      65929   \n",
      "\n",
      "                           address  \\\n",
      "0               Grosse Freiheit 36   \n",
      "1               Grosse Freiheit 58   \n",
      "2             Hasenheide 107 – 113   \n",
      "3            Rhein-Mosel-Straße 45   \n",
      "4            Theodor-Heuss-Platz 1   \n",
      "5                 Schloss Bruchsal   \n",
      "6                  Rathausstraße 3   \n",
      "7                  Ritterstraße 20   \n",
      "8               Fort-Worth-Platz 1   \n",
      "9              Hühnerbergstraße 19   \n",
      "10                  Rathausplatz 2   \n",
      "11               Hansastraße 39-41   \n",
      "12               Hansastraße 39-41   \n",
      "13                  Herrenstraße 5   \n",
      "14                     Wesenberg 1   \n",
      "15                   Europaplatz 1   \n",
      "16  Saarlandstraße / Ecke Jahnring   \n",
      "17           Johannes-Brahms-Platz   \n",
      "18             Alter Postweg 30-38   \n",
      "19                Pfaffenwiese 301   \n",
      "\n",
      "                                                  url longitude   latitude  \n",
      "0             http://www.ticketmaster.de/venue/287636  9.957905  53.551187  \n",
      "1             http://www.ticketmaster.de/venue/287155  9.958075  53.551885  \n",
      "2             http://www.ticketmaster.de/venue/286842  13.42138  52.486391  \n",
      "3   https://www.ticketmaster.de/venue/zentrum-am-p...   7.55656   50.15544  \n",
      "4   https://www.ticketmaster.de/venue/stadthalle-t...   6.87471   51.42778  \n",
      "5   https://www.ticketmaster.de/venue/schlossgarte...   8.59908   49.12692  \n",
      "6   https://www.ticketmaster.de/venue/stadthalle-h...   8.54908   49.31849  \n",
      "7   https://www.ticketmaster.de/venue/fzw-dortmund...    7.4501   51.51481  \n",
      "8   https://www.ticketmaster.de/venue/arena-trier-...   6.66426   49.77183  \n",
      "9   https://www.ticketmaster.de/venue/eissporthall...  10.16293   47.97999  \n",
      "10  https://www.ticketmaster.de/venue/stadthalle-g...  10.87803   48.42433  \n",
      "11  https://www.ticketmaster.de/venue/feierwerk-kr...  11.53389   48.12914  \n",
      "12  https://www.ticketmaster.de/venue/feierwerk-ha...  11.53389   48.12914  \n",
      "13  https://www.ticketmaster.de/venue/burghof-stim...   7.65919   47.61109  \n",
      "14  https://www.ticketmaster.de/venue/schiesssport...   9.79941   53.45047  \n",
      "15  https://www.ticketmaster.de/venue/wunderino-ar...  10.13139   54.32057  \n",
      "16  https://www.ticketmaster.de/venue/stadtpark-op...   10.0295   53.60036  \n",
      "17  https://www.ticketmaster.de/venue/laeiszhalle-...   9.98061   53.55538  \n",
      "18  https://www.ticketmaster.de/venue/friedrich-eb...   9.96507   53.46498  \n",
      "19  https://www.ticketmaster.de/venue/myticket-jah...   8.51972   50.09914  \n"
     ]
    }
   ],
   "source": [
    "tickets_length=len(tickets_content['_embedded']['venues'])\n",
    "tickets=tickets_content['_embedded']['venues'] #this is a list of dictionaries\n",
    "\n",
    "names=[]\n",
    "city=[]\n",
    "postal_Code=[]\n",
    "address=[]\n",
    "url=[]\n",
    "longitude=[]\n",
    "latitude=[]\n",
    "\n",
    "\n",
    "for i in tickets_content['_embedded']['venues']:\n",
    "    if 'name' in i:\n",
    "        names.append(i['name'])\n",
    "    else:\n",
    "        names.append('N/A')\n",
    "    if 'city' in i:\n",
    "        city.append(i['city']['name'])\n",
    "    else:\n",
    "        city.append('N/A')            \n",
    "    if 'postalCode' in i:\n",
    "        postal_Code.append(i['postalCode'])\n",
    "    else:\n",
    "        postal_Code.append('N/A')\n",
    "    if 'address' in i:\n",
    "        address.append(i['address']['line1'])\n",
    "    else:\n",
    "        address.append('N/A')\n",
    "    if 'url' in i:\n",
    "        url.append(i['url'])\n",
    "    else:\n",
    "        url.append('N/A')\n",
    "    if 'location' in i:\n",
    "        longitude.append(i['location']['longitude'])\n",
    "        latitude.append(i['location']['latitude'])\n",
    "    else:\n",
    "        longitude.append('NA')\n",
    "        latitude.append('NA')                    \n",
    "\n",
    "#store them in a data frame\n",
    "var_dict={'name':names,\n",
    "            'city':city,\n",
    "            'postalCode':postal_Code,\n",
    "            'address':address,\n",
    "            'url':url,\n",
    "            'longitude':longitude,\n",
    "            'latitude':latitude}\n",
    "tickets_content_df=pd.DataFrame(var_dict) \n",
    "print(tickets_content_df)        \n",
    "  \n",
    "   \n"
   ]
  },
  {
   "cell_type": "code",
   "execution_count": 7,
   "metadata": {},
   "outputs": [
    {
     "data": {
      "text/html": [
       "<div>\n",
       "<style scoped>\n",
       "    .dataframe tbody tr th:only-of-type {\n",
       "        vertical-align: middle;\n",
       "    }\n",
       "\n",
       "    .dataframe tbody tr th {\n",
       "        vertical-align: top;\n",
       "    }\n",
       "\n",
       "    .dataframe thead th {\n",
       "        text-align: right;\n",
       "    }\n",
       "</style>\n",
       "<table border=\"1\" class=\"dataframe\">\n",
       "  <thead>\n",
       "    <tr style=\"text-align: right;\">\n",
       "      <th></th>\n",
       "      <th>name</th>\n",
       "      <th>city</th>\n",
       "      <th>postalCode</th>\n",
       "      <th>address</th>\n",
       "      <th>url</th>\n",
       "      <th>longitude</th>\n",
       "      <th>latitude</th>\n",
       "    </tr>\n",
       "  </thead>\n",
       "  <tbody>\n",
       "    <tr>\n",
       "      <th>0</th>\n",
       "      <td>Grosse Freiheit 36</td>\n",
       "      <td>Hamburg</td>\n",
       "      <td>22767</td>\n",
       "      <td>Grosse Freiheit 36</td>\n",
       "      <td>http://www.ticketmaster.de/venue/287636</td>\n",
       "      <td>9.957905</td>\n",
       "      <td>53.551187</td>\n",
       "    </tr>\n",
       "    <tr>\n",
       "      <th>1</th>\n",
       "      <td>Gruenspan</td>\n",
       "      <td>Hamburg</td>\n",
       "      <td>22767</td>\n",
       "      <td>Grosse Freiheit 58</td>\n",
       "      <td>http://www.ticketmaster.de/venue/287155</td>\n",
       "      <td>9.958075</td>\n",
       "      <td>53.551885</td>\n",
       "    </tr>\n",
       "    <tr>\n",
       "      <th>2</th>\n",
       "      <td>Huxleys Neue Welt</td>\n",
       "      <td>Berlin</td>\n",
       "      <td>10967</td>\n",
       "      <td>Hasenheide 107 – 113</td>\n",
       "      <td>http://www.ticketmaster.de/venue/286842</td>\n",
       "      <td>13.42138</td>\n",
       "      <td>52.486391</td>\n",
       "    </tr>\n",
       "    <tr>\n",
       "      <th>3</th>\n",
       "      <td>Zentrum am Park</td>\n",
       "      <td>Emmelshausen</td>\n",
       "      <td>56281</td>\n",
       "      <td>Rhein-Mosel-Straße 45</td>\n",
       "      <td>https://www.ticketmaster.de/venue/zentrum-am-p...</td>\n",
       "      <td>7.55656</td>\n",
       "      <td>50.15544</td>\n",
       "    </tr>\n",
       "    <tr>\n",
       "      <th>4</th>\n",
       "      <td>Stadthalle (Theatersaal)</td>\n",
       "      <td>Mülheim</td>\n",
       "      <td>45479</td>\n",
       "      <td>Theodor-Heuss-Platz 1</td>\n",
       "      <td>https://www.ticketmaster.de/venue/stadthalle-t...</td>\n",
       "      <td>6.87471</td>\n",
       "      <td>51.42778</td>\n",
       "    </tr>\n",
       "    <tr>\n",
       "      <th>5</th>\n",
       "      <td>Schlossgarten</td>\n",
       "      <td>Bruchsal</td>\n",
       "      <td>76646</td>\n",
       "      <td>Schloss Bruchsal</td>\n",
       "      <td>https://www.ticketmaster.de/venue/schlossgarte...</td>\n",
       "      <td>8.59908</td>\n",
       "      <td>49.12692</td>\n",
       "    </tr>\n",
       "    <tr>\n",
       "      <th>6</th>\n",
       "      <td>Stadthalle</td>\n",
       "      <td>Hockenheim</td>\n",
       "      <td>68766</td>\n",
       "      <td>Rathausstraße 3</td>\n",
       "      <td>https://www.ticketmaster.de/venue/stadthalle-h...</td>\n",
       "      <td>8.54908</td>\n",
       "      <td>49.31849</td>\n",
       "    </tr>\n",
       "    <tr>\n",
       "      <th>7</th>\n",
       "      <td>FZW</td>\n",
       "      <td>Dortmund</td>\n",
       "      <td>44263</td>\n",
       "      <td>Ritterstraße 20</td>\n",
       "      <td>https://www.ticketmaster.de/venue/fzw-dortmund...</td>\n",
       "      <td>7.4501</td>\n",
       "      <td>51.51481</td>\n",
       "    </tr>\n",
       "    <tr>\n",
       "      <th>8</th>\n",
       "      <td>Arena Trier</td>\n",
       "      <td>Trier</td>\n",
       "      <td>54292</td>\n",
       "      <td>Fort-Worth-Platz 1</td>\n",
       "      <td>https://www.ticketmaster.de/venue/arena-trier-...</td>\n",
       "      <td>6.66426</td>\n",
       "      <td>49.77183</td>\n",
       "    </tr>\n",
       "    <tr>\n",
       "      <th>9</th>\n",
       "      <td>Eissporthalle</td>\n",
       "      <td>Memmingen</td>\n",
       "      <td>87700</td>\n",
       "      <td>Hühnerbergstraße 19</td>\n",
       "      <td>https://www.ticketmaster.de/venue/eissporthall...</td>\n",
       "      <td>10.16293</td>\n",
       "      <td>47.97999</td>\n",
       "    </tr>\n",
       "    <tr>\n",
       "      <th>10</th>\n",
       "      <td>Stadthalle Gersthofen</td>\n",
       "      <td>Gersthofen</td>\n",
       "      <td>86368</td>\n",
       "      <td>Rathausplatz 2</td>\n",
       "      <td>https://www.ticketmaster.de/venue/stadthalle-g...</td>\n",
       "      <td>10.87803</td>\n",
       "      <td>48.42433</td>\n",
       "    </tr>\n",
       "    <tr>\n",
       "      <th>11</th>\n",
       "      <td>Feierwerk (Kranhalle)</td>\n",
       "      <td>Munich</td>\n",
       "      <td>81373</td>\n",
       "      <td>Hansastraße 39-41</td>\n",
       "      <td>https://www.ticketmaster.de/venue/feierwerk-kr...</td>\n",
       "      <td>11.53389</td>\n",
       "      <td>48.12914</td>\n",
       "    </tr>\n",
       "    <tr>\n",
       "      <th>12</th>\n",
       "      <td>Feierwerk (Hansa 39)</td>\n",
       "      <td>Munich</td>\n",
       "      <td>81373</td>\n",
       "      <td>Hansastraße 39-41</td>\n",
       "      <td>https://www.ticketmaster.de/venue/feierwerk-ha...</td>\n",
       "      <td>11.53389</td>\n",
       "      <td>48.12914</td>\n",
       "    </tr>\n",
       "    <tr>\n",
       "      <th>13</th>\n",
       "      <td>Burghof - STIMMEN-Festival</td>\n",
       "      <td>Lörrach</td>\n",
       "      <td>79539</td>\n",
       "      <td>Herrenstraße 5</td>\n",
       "      <td>https://www.ticketmaster.de/venue/burghof-stim...</td>\n",
       "      <td>7.65919</td>\n",
       "      <td>47.61109</td>\n",
       "    </tr>\n",
       "    <tr>\n",
       "      <th>14</th>\n",
       "      <td>Schiesssportanlage</td>\n",
       "      <td>Neu Wulmstorf</td>\n",
       "      <td>21629</td>\n",
       "      <td>Wesenberg 1</td>\n",
       "      <td>https://www.ticketmaster.de/venue/schiesssport...</td>\n",
       "      <td>9.79941</td>\n",
       "      <td>53.45047</td>\n",
       "    </tr>\n",
       "    <tr>\n",
       "      <th>15</th>\n",
       "      <td>WUNDERINO ARENA</td>\n",
       "      <td>Kiel</td>\n",
       "      <td>24103</td>\n",
       "      <td>Europaplatz 1</td>\n",
       "      <td>https://www.ticketmaster.de/venue/wunderino-ar...</td>\n",
       "      <td>10.13139</td>\n",
       "      <td>54.32057</td>\n",
       "    </tr>\n",
       "    <tr>\n",
       "      <th>16</th>\n",
       "      <td>Stadtpark Open Air</td>\n",
       "      <td>Hamburg</td>\n",
       "      <td>22303</td>\n",
       "      <td>Saarlandstraße / Ecke Jahnring</td>\n",
       "      <td>https://www.ticketmaster.de/venue/stadtpark-op...</td>\n",
       "      <td>10.0295</td>\n",
       "      <td>53.60036</td>\n",
       "    </tr>\n",
       "    <tr>\n",
       "      <th>17</th>\n",
       "      <td>Laeiszhalle (Großer Saal)</td>\n",
       "      <td>Hamburg</td>\n",
       "      <td>20355</td>\n",
       "      <td>Johannes-Brahms-Platz</td>\n",
       "      <td>https://www.ticketmaster.de/venue/laeiszhalle-...</td>\n",
       "      <td>9.98061</td>\n",
       "      <td>53.55538</td>\n",
       "    </tr>\n",
       "    <tr>\n",
       "      <th>18</th>\n",
       "      <td>Friedrich-Ebert-Halle</td>\n",
       "      <td>Hamburg</td>\n",
       "      <td>21075</td>\n",
       "      <td>Alter Postweg 30-38</td>\n",
       "      <td>https://www.ticketmaster.de/venue/friedrich-eb...</td>\n",
       "      <td>9.96507</td>\n",
       "      <td>53.46498</td>\n",
       "    </tr>\n",
       "    <tr>\n",
       "      <th>19</th>\n",
       "      <td>myticket Jahrhunderthalle</td>\n",
       "      <td>Frankfurt am Main</td>\n",
       "      <td>65929</td>\n",
       "      <td>Pfaffenwiese 301</td>\n",
       "      <td>https://www.ticketmaster.de/venue/myticket-jah...</td>\n",
       "      <td>8.51972</td>\n",
       "      <td>50.09914</td>\n",
       "    </tr>\n",
       "  </tbody>\n",
       "</table>\n",
       "</div>"
      ],
      "text/plain": [
       "                          name               city postalCode  \\\n",
       "0           Grosse Freiheit 36            Hamburg      22767   \n",
       "1                    Gruenspan            Hamburg      22767   \n",
       "2            Huxleys Neue Welt             Berlin      10967   \n",
       "3              Zentrum am Park       Emmelshausen      56281   \n",
       "4     Stadthalle (Theatersaal)            Mülheim      45479   \n",
       "5                Schlossgarten           Bruchsal      76646   \n",
       "6                   Stadthalle         Hockenheim      68766   \n",
       "7                          FZW           Dortmund      44263   \n",
       "8                  Arena Trier              Trier      54292   \n",
       "9                Eissporthalle          Memmingen      87700   \n",
       "10       Stadthalle Gersthofen         Gersthofen      86368   \n",
       "11       Feierwerk (Kranhalle)             Munich      81373   \n",
       "12        Feierwerk (Hansa 39)             Munich      81373   \n",
       "13  Burghof - STIMMEN-Festival            Lörrach      79539   \n",
       "14          Schiesssportanlage      Neu Wulmstorf      21629   \n",
       "15             WUNDERINO ARENA               Kiel      24103   \n",
       "16          Stadtpark Open Air            Hamburg      22303   \n",
       "17   Laeiszhalle (Großer Saal)            Hamburg      20355   \n",
       "18       Friedrich-Ebert-Halle            Hamburg      21075   \n",
       "19   myticket Jahrhunderthalle  Frankfurt am Main      65929   \n",
       "\n",
       "                           address  \\\n",
       "0               Grosse Freiheit 36   \n",
       "1               Grosse Freiheit 58   \n",
       "2             Hasenheide 107 – 113   \n",
       "3            Rhein-Mosel-Straße 45   \n",
       "4            Theodor-Heuss-Platz 1   \n",
       "5                 Schloss Bruchsal   \n",
       "6                  Rathausstraße 3   \n",
       "7                  Ritterstraße 20   \n",
       "8               Fort-Worth-Platz 1   \n",
       "9              Hühnerbergstraße 19   \n",
       "10                  Rathausplatz 2   \n",
       "11               Hansastraße 39-41   \n",
       "12               Hansastraße 39-41   \n",
       "13                  Herrenstraße 5   \n",
       "14                     Wesenberg 1   \n",
       "15                   Europaplatz 1   \n",
       "16  Saarlandstraße / Ecke Jahnring   \n",
       "17           Johannes-Brahms-Platz   \n",
       "18             Alter Postweg 30-38   \n",
       "19                Pfaffenwiese 301   \n",
       "\n",
       "                                                  url longitude   latitude  \n",
       "0             http://www.ticketmaster.de/venue/287636  9.957905  53.551187  \n",
       "1             http://www.ticketmaster.de/venue/287155  9.958075  53.551885  \n",
       "2             http://www.ticketmaster.de/venue/286842  13.42138  52.486391  \n",
       "3   https://www.ticketmaster.de/venue/zentrum-am-p...   7.55656   50.15544  \n",
       "4   https://www.ticketmaster.de/venue/stadthalle-t...   6.87471   51.42778  \n",
       "5   https://www.ticketmaster.de/venue/schlossgarte...   8.59908   49.12692  \n",
       "6   https://www.ticketmaster.de/venue/stadthalle-h...   8.54908   49.31849  \n",
       "7   https://www.ticketmaster.de/venue/fzw-dortmund...    7.4501   51.51481  \n",
       "8   https://www.ticketmaster.de/venue/arena-trier-...   6.66426   49.77183  \n",
       "9   https://www.ticketmaster.de/venue/eissporthall...  10.16293   47.97999  \n",
       "10  https://www.ticketmaster.de/venue/stadthalle-g...  10.87803   48.42433  \n",
       "11  https://www.ticketmaster.de/venue/feierwerk-kr...  11.53389   48.12914  \n",
       "12  https://www.ticketmaster.de/venue/feierwerk-ha...  11.53389   48.12914  \n",
       "13  https://www.ticketmaster.de/venue/burghof-stim...   7.65919   47.61109  \n",
       "14  https://www.ticketmaster.de/venue/schiesssport...   9.79941   53.45047  \n",
       "15  https://www.ticketmaster.de/venue/wunderino-ar...  10.13139   54.32057  \n",
       "16  https://www.ticketmaster.de/venue/stadtpark-op...   10.0295   53.60036  \n",
       "17  https://www.ticketmaster.de/venue/laeiszhalle-...   9.98061   53.55538  \n",
       "18  https://www.ticketmaster.de/venue/friedrich-eb...   9.96507   53.46498  \n",
       "19  https://www.ticketmaster.de/venue/myticket-jah...   8.51972   50.09914  "
      ]
     },
     "execution_count": 7,
     "metadata": {},
     "output_type": "execute_result"
    }
   ],
   "source": [
    "tickets_content_df"
   ]
  },
  {
   "attachments": {},
   "cell_type": "markdown",
   "metadata": {},
   "source": [
    "## Interacting with the API - advanced\n",
    "(9) Have a closer look at the list element named page. Did your GET request from exercise (7) return all\n",
    "event locations in Germany? Obviously not - there are of course much more venues in Germany than\n",
    "those contained in this list. Your GET request only yielded the first results page containing the first\n",
    "20 out of several thousands of venues. Check the API documentation under the section Venue Search.\n",
    "How can you request the venues from the remaining results pages? Iterate over the results pages and\n",
    "perform GET requests for all venues in Germany. After each iteration, extract the seven variables name,\n",
    "city, postalCode, address, url, longitude, and latitude. Join the information in one large\n",
    "data frame. Print the first 10 rows and the shape of the resulting data frame. The resulting data frame\n",
    "should look something like this (note that the exact number of search results may have changed since\n",
    "this document has been last modified):"
   ]
  },
  {
   "cell_type": "code",
   "execution_count": 8,
   "metadata": {},
   "outputs": [],
   "source": [
    "# creating a function for the request object\n",
    "def requester(api_key,country_Code,page):\n",
    "    api_Key=api_key\n",
    "    countryCode=country_Code\n",
    "    venues_list=requests.get('https://app.ticketmaster.com/discovery/v2/venues', params={\"apikey\": api_Key, \"countryCode\": countryCode, 'page':page,'locale':'*','size':499}).json() #use page size of 499 so that every element can be caught\n",
    "    return(venues_list)\n",
    "#create a function to extract the values from the task before"
   ]
  },
  {
   "cell_type": "code",
   "execution_count": 9,
   "metadata": {},
   "outputs": [],
   "source": [
    "#test if the function works\n",
    "venues_info=requester(api_key1,'DE',0)   "
   ]
  },
  {
   "cell_type": "code",
   "execution_count": 10,
   "metadata": {},
   "outputs": [],
   "source": [
    "venues_Liste=[None]*(venues_info['page']['totalPages']) #preparing the environment\n",
    "pages=list(range(venues_info['page']['totalPages']))\n",
    "for p in pages:\n",
    "    time.sleep(0.5)\n",
    "    venues_Liste[p]=requester(api_key1,'DE',p)"
   ]
  },
  {
   "cell_type": "code",
   "execution_count": 11,
   "metadata": {},
   "outputs": [],
   "source": [
    "venues_Liste=[None]*(venues_info['page']['totalPages']) #had to run it a second time, because in the first request does not catch all pages\n",
    "pages=list(range(venues_info['page']['totalPages']))\n",
    "for p in pages:\n",
    "    time.sleep(0.5)\n",
    "    venues_Liste[p]=requester(api_key1,'DE',p)"
   ]
  },
  {
   "cell_type": "code",
   "execution_count": 12,
   "metadata": {},
   "outputs": [
    {
     "name": "stdout",
     "output_type": "stream",
     "text": [
      "[]\n",
      "[]\n"
     ]
    }
   ],
   "source": [
    "#find entries in the list with an error message\n",
    "error_pages=list()\n",
    "for e in pages:\n",
    "    if '_embedded' in venues_Liste[e]:\n",
    "        continue\n",
    "    else:\n",
    "        page_index=e\n",
    "        error_pages.append(page_index)\n",
    "#print the error message\n",
    "print(error_pages)\n",
    "for i in error_pages:\n",
    "    print(venues_Liste[i])\n",
    "#reverse order of error pages\n",
    "error_pages.reverse()\n",
    "print(error_pages)\n",
    "venues_Liste2=venues_Liste.copy()"
   ]
  },
  {
   "cell_type": "code",
   "execution_count": 13,
   "metadata": {},
   "outputs": [],
   "source": [
    "#remove entries with error message\n",
    "for i in error_pages:\n",
    "   venues_Liste2.pop(i)\n",
    "vpages=len(venues_Liste2)\n",
    "vpages=list(range(vpages))   "
   ]
  },
  {
   "cell_type": "code",
   "execution_count": 14,
   "metadata": {},
   "outputs": [
    {
     "data": {
      "text/plain": [
       "(12935, 7)"
      ]
     },
     "execution_count": 14,
     "metadata": {},
     "output_type": "execute_result"
    }
   ],
   "source": [
    "#create a new data frame with every page\n",
    "venues_de=pd.DataFrame()\n",
    "\n",
    "for p in vpages:\n",
    "    names_de=[]\n",
    "    city_de=[]\n",
    "    postal_Code_de=[]\n",
    "    address_de=[]\n",
    "    url_de=[]\n",
    "    longitude_de=[]\n",
    "    latitude_de=[]\n",
    "    for i in venues_Liste2[p]['_embedded']['venues']:\n",
    "        if 'name' in i:\n",
    "            names_de.append(i['name'])\n",
    "        else:\n",
    "            names_de.append(np.NaN)\n",
    "        if 'city' in i:\n",
    "            city_de.append(i['city']['name'])\n",
    "        else:\n",
    "            city_de.append(np.NaN)            \n",
    "        if 'postalCode' in i:\n",
    "            postal_Code_de.append(i['postalCode'])\n",
    "        else:\n",
    "            postal_Code_de.append('N/A')\n",
    "        if 'address' in i:\n",
    "            if 'line1' in i['address']:\n",
    "                address_de.append(i['address']['line1'])\n",
    "            else:\n",
    "                address_de.append(np.NaN)    \n",
    "        else:\n",
    "            address_de.append(np.NaN)\n",
    "        if 'url' in i:\n",
    "            url_de.append(i['url'])\n",
    "        else:\n",
    "            url_de.append(np.NaN)\n",
    "        if 'location' in i:\n",
    "            longitude_de.append(i['location']['longitude'])\n",
    "            latitude_de.append(i['location']['latitude'])\n",
    "        else:\n",
    "            longitude_de.append(np.NaN)\n",
    "            latitude_de.append(np.NaN)                    \n",
    "\n",
    "    #store them in a data frame\n",
    "    var_dict={'name':names_de,\n",
    "            'city':city_de,\n",
    "            'postalCode':postal_Code_de,\n",
    "            'address':address_de,\n",
    "            'url':url_de,\n",
    "            'longitude':longitude_de,\n",
    "            'latitude':latitude_de}\n",
    "    venues_df=pd.DataFrame(var_dict)\n",
    "    venues_de=pd.concat([venues_de,venues_df]) \n",
    "venues_de.shape\n",
    "    "
   ]
  },
  {
   "cell_type": "code",
   "execution_count": 15,
   "metadata": {},
   "outputs": [
    {
     "data": {
      "text/html": [
       "<div>\n",
       "<style scoped>\n",
       "    .dataframe tbody tr th:only-of-type {\n",
       "        vertical-align: middle;\n",
       "    }\n",
       "\n",
       "    .dataframe tbody tr th {\n",
       "        vertical-align: top;\n",
       "    }\n",
       "\n",
       "    .dataframe thead th {\n",
       "        text-align: right;\n",
       "    }\n",
       "</style>\n",
       "<table border=\"1\" class=\"dataframe\">\n",
       "  <thead>\n",
       "    <tr style=\"text-align: right;\">\n",
       "      <th></th>\n",
       "      <th>name</th>\n",
       "      <th>city</th>\n",
       "      <th>postalCode</th>\n",
       "      <th>address</th>\n",
       "      <th>url</th>\n",
       "      <th>longitude</th>\n",
       "      <th>latitude</th>\n",
       "    </tr>\n",
       "  </thead>\n",
       "  <tbody>\n",
       "    <tr>\n",
       "      <th>0</th>\n",
       "      <td>Grosse Freiheit 36</td>\n",
       "      <td>Hamburg</td>\n",
       "      <td>22767</td>\n",
       "      <td>Grosse Freiheit 36</td>\n",
       "      <td>http://www.ticketmaster.de/venue/287636</td>\n",
       "      <td>9.957905</td>\n",
       "      <td>53.551187</td>\n",
       "    </tr>\n",
       "    <tr>\n",
       "      <th>1</th>\n",
       "      <td>Gruenspan</td>\n",
       "      <td>Hamburg</td>\n",
       "      <td>22767</td>\n",
       "      <td>Grosse Freiheit 58</td>\n",
       "      <td>http://www.ticketmaster.de/venue/287155</td>\n",
       "      <td>9.958075</td>\n",
       "      <td>53.551885</td>\n",
       "    </tr>\n",
       "    <tr>\n",
       "      <th>2</th>\n",
       "      <td>Huxleys Neue Welt</td>\n",
       "      <td>Berlin</td>\n",
       "      <td>10967</td>\n",
       "      <td>Hasenheide 107 – 113</td>\n",
       "      <td>http://www.ticketmaster.de/venue/286842</td>\n",
       "      <td>13.42138</td>\n",
       "      <td>52.486391</td>\n",
       "    </tr>\n",
       "    <tr>\n",
       "      <th>3</th>\n",
       "      <td>Zentrum am Park</td>\n",
       "      <td>Emmelshausen</td>\n",
       "      <td>56281</td>\n",
       "      <td>Rhein-Mosel-Straße 45</td>\n",
       "      <td>https://www.ticketmaster.de/venue/zentrum-am-p...</td>\n",
       "      <td>7.55656</td>\n",
       "      <td>50.15544</td>\n",
       "    </tr>\n",
       "    <tr>\n",
       "      <th>4</th>\n",
       "      <td>Stadthalle (Theatersaal)</td>\n",
       "      <td>Mülheim</td>\n",
       "      <td>45479</td>\n",
       "      <td>Theodor-Heuss-Platz 1</td>\n",
       "      <td>https://www.ticketmaster.de/venue/stadthalle-t...</td>\n",
       "      <td>6.87471</td>\n",
       "      <td>51.42778</td>\n",
       "    </tr>\n",
       "    <tr>\n",
       "      <th>5</th>\n",
       "      <td>Schlossgarten</td>\n",
       "      <td>Bruchsal</td>\n",
       "      <td>76646</td>\n",
       "      <td>Schloss Bruchsal</td>\n",
       "      <td>https://www.ticketmaster.de/venue/schlossgarte...</td>\n",
       "      <td>8.59908</td>\n",
       "      <td>49.12692</td>\n",
       "    </tr>\n",
       "    <tr>\n",
       "      <th>6</th>\n",
       "      <td>Stadthalle</td>\n",
       "      <td>Hockenheim</td>\n",
       "      <td>68766</td>\n",
       "      <td>Rathausstraße 3</td>\n",
       "      <td>https://www.ticketmaster.de/venue/stadthalle-h...</td>\n",
       "      <td>8.54908</td>\n",
       "      <td>49.31849</td>\n",
       "    </tr>\n",
       "    <tr>\n",
       "      <th>7</th>\n",
       "      <td>FZW</td>\n",
       "      <td>Dortmund</td>\n",
       "      <td>44263</td>\n",
       "      <td>Ritterstraße 20</td>\n",
       "      <td>https://www.ticketmaster.de/venue/fzw-dortmund...</td>\n",
       "      <td>7.4501</td>\n",
       "      <td>51.51481</td>\n",
       "    </tr>\n",
       "    <tr>\n",
       "      <th>8</th>\n",
       "      <td>Arena Trier</td>\n",
       "      <td>Trier</td>\n",
       "      <td>54292</td>\n",
       "      <td>Fort-Worth-Platz 1</td>\n",
       "      <td>https://www.ticketmaster.de/venue/arena-trier-...</td>\n",
       "      <td>6.66426</td>\n",
       "      <td>49.77183</td>\n",
       "    </tr>\n",
       "    <tr>\n",
       "      <th>9</th>\n",
       "      <td>Eissporthalle</td>\n",
       "      <td>Memmingen</td>\n",
       "      <td>87700</td>\n",
       "      <td>Hühnerbergstraße 19</td>\n",
       "      <td>https://www.ticketmaster.de/venue/eissporthall...</td>\n",
       "      <td>10.16293</td>\n",
       "      <td>47.97999</td>\n",
       "    </tr>\n",
       "  </tbody>\n",
       "</table>\n",
       "</div>"
      ],
      "text/plain": [
       "                       name          city postalCode                address  \\\n",
       "0        Grosse Freiheit 36       Hamburg      22767     Grosse Freiheit 36   \n",
       "1                 Gruenspan       Hamburg      22767     Grosse Freiheit 58   \n",
       "2         Huxleys Neue Welt        Berlin      10967   Hasenheide 107 – 113   \n",
       "3           Zentrum am Park  Emmelshausen      56281  Rhein-Mosel-Straße 45   \n",
       "4  Stadthalle (Theatersaal)       Mülheim      45479  Theodor-Heuss-Platz 1   \n",
       "5             Schlossgarten      Bruchsal      76646       Schloss Bruchsal   \n",
       "6                Stadthalle    Hockenheim      68766        Rathausstraße 3   \n",
       "7                       FZW      Dortmund      44263        Ritterstraße 20   \n",
       "8               Arena Trier         Trier      54292     Fort-Worth-Platz 1   \n",
       "9             Eissporthalle     Memmingen      87700    Hühnerbergstraße 19   \n",
       "\n",
       "                                                 url longitude   latitude  \n",
       "0            http://www.ticketmaster.de/venue/287636  9.957905  53.551187  \n",
       "1            http://www.ticketmaster.de/venue/287155  9.958075  53.551885  \n",
       "2            http://www.ticketmaster.de/venue/286842  13.42138  52.486391  \n",
       "3  https://www.ticketmaster.de/venue/zentrum-am-p...   7.55656   50.15544  \n",
       "4  https://www.ticketmaster.de/venue/stadthalle-t...   6.87471   51.42778  \n",
       "5  https://www.ticketmaster.de/venue/schlossgarte...   8.59908   49.12692  \n",
       "6  https://www.ticketmaster.de/venue/stadthalle-h...   8.54908   49.31849  \n",
       "7  https://www.ticketmaster.de/venue/fzw-dortmund...    7.4501   51.51481  \n",
       "8  https://www.ticketmaster.de/venue/arena-trier-...   6.66426   49.77183  \n",
       "9  https://www.ticketmaster.de/venue/eissporthall...  10.16293   47.97999  "
      ]
     },
     "execution_count": 15,
     "metadata": {},
     "output_type": "execute_result"
    }
   ],
   "source": [
    "venues_de.head(10)"
   ]
  },
  {
   "attachments": {},
   "cell_type": "markdown",
   "metadata": {},
   "source": [
    "## Visualizing the extracted data\n",
    "(10) Below, you can find code that produces a map of Germany. Add points to the map indicating the\n",
    "locations of the event venues across Germany.<br>"
   ]
  },
  {
   "cell_type": "code",
   "execution_count": 16,
   "metadata": {},
   "outputs": [],
   "source": [
    "#import necessary packages\n",
    "import geopandas as gpd\n",
    "import matplotlib.pyplot as plt\n",
    "from shapely.geometry import Point, Polygon"
   ]
  },
  {
   "cell_type": "code",
   "execution_count": 17,
   "metadata": {},
   "outputs": [],
   "source": [
    "\n",
    "crs={'init':'epsg:4326'}"
   ]
  },
  {
   "cell_type": "code",
   "execution_count": 18,
   "metadata": {},
   "outputs": [],
   "source": [
    "venues_de['longitude'] = pd.to_numeric(venues_de['longitude'])\n",
    "venues_de['latitude'] = pd.to_numeric(venues_de['latitude'])"
   ]
  },
  {
   "cell_type": "code",
   "execution_count": 19,
   "metadata": {},
   "outputs": [],
   "source": [
    "#create geometric points for the map\n",
    "geometry=[Point(xy) for xy in zip(venues_de['longitude'],venues_de['latitude'])]"
   ]
  },
  {
   "cell_type": "code",
   "execution_count": 20,
   "metadata": {},
   "outputs": [
    {
     "name": "stderr",
     "output_type": "stream",
     "text": [
      "c:\\Users\\chris\\anaconda3\\lib\\site-packages\\pyproj\\crs\\crs.py:53: FutureWarning: '+init=<authority>:<code>' syntax is deprecated. '<authority>:<code>' is the preferred initialization method. When making the change, be mindful of axis order changes: https://pyproj4.github.io/pyproj/stable/gotchas.html#axis-order-changes-in-proj-6\n",
      "  return _prepare_from_string(\" \".join(pjargs))\n"
     ]
    },
    {
     "data": {
      "text/html": [
       "<div>\n",
       "<style scoped>\n",
       "    .dataframe tbody tr th:only-of-type {\n",
       "        vertical-align: middle;\n",
       "    }\n",
       "\n",
       "    .dataframe tbody tr th {\n",
       "        vertical-align: top;\n",
       "    }\n",
       "\n",
       "    .dataframe thead th {\n",
       "        text-align: right;\n",
       "    }\n",
       "</style>\n",
       "<table border=\"1\" class=\"dataframe\">\n",
       "  <thead>\n",
       "    <tr style=\"text-align: right;\">\n",
       "      <th></th>\n",
       "      <th>name</th>\n",
       "      <th>city</th>\n",
       "      <th>postalCode</th>\n",
       "      <th>address</th>\n",
       "      <th>url</th>\n",
       "      <th>longitude</th>\n",
       "      <th>latitude</th>\n",
       "      <th>geometry</th>\n",
       "    </tr>\n",
       "  </thead>\n",
       "  <tbody>\n",
       "    <tr>\n",
       "      <th>0</th>\n",
       "      <td>Grosse Freiheit 36</td>\n",
       "      <td>Hamburg</td>\n",
       "      <td>22767</td>\n",
       "      <td>Grosse Freiheit 36</td>\n",
       "      <td>http://www.ticketmaster.de/venue/287636</td>\n",
       "      <td>9.957905</td>\n",
       "      <td>53.551187</td>\n",
       "      <td>POINT (9.95791 53.55119)</td>\n",
       "    </tr>\n",
       "    <tr>\n",
       "      <th>1</th>\n",
       "      <td>Gruenspan</td>\n",
       "      <td>Hamburg</td>\n",
       "      <td>22767</td>\n",
       "      <td>Grosse Freiheit 58</td>\n",
       "      <td>http://www.ticketmaster.de/venue/287155</td>\n",
       "      <td>9.958075</td>\n",
       "      <td>53.551885</td>\n",
       "      <td>POINT (9.95807 53.55188)</td>\n",
       "    </tr>\n",
       "    <tr>\n",
       "      <th>2</th>\n",
       "      <td>Huxleys Neue Welt</td>\n",
       "      <td>Berlin</td>\n",
       "      <td>10967</td>\n",
       "      <td>Hasenheide 107 – 113</td>\n",
       "      <td>http://www.ticketmaster.de/venue/286842</td>\n",
       "      <td>13.421380</td>\n",
       "      <td>52.486391</td>\n",
       "      <td>POINT (13.42138 52.48639)</td>\n",
       "    </tr>\n",
       "    <tr>\n",
       "      <th>3</th>\n",
       "      <td>Zentrum am Park</td>\n",
       "      <td>Emmelshausen</td>\n",
       "      <td>56281</td>\n",
       "      <td>Rhein-Mosel-Straße 45</td>\n",
       "      <td>https://www.ticketmaster.de/venue/zentrum-am-p...</td>\n",
       "      <td>7.556560</td>\n",
       "      <td>50.155440</td>\n",
       "      <td>POINT (7.55656 50.15544)</td>\n",
       "    </tr>\n",
       "    <tr>\n",
       "      <th>4</th>\n",
       "      <td>Stadthalle (Theatersaal)</td>\n",
       "      <td>Mülheim</td>\n",
       "      <td>45479</td>\n",
       "      <td>Theodor-Heuss-Platz 1</td>\n",
       "      <td>https://www.ticketmaster.de/venue/stadthalle-t...</td>\n",
       "      <td>6.874710</td>\n",
       "      <td>51.427780</td>\n",
       "      <td>POINT (6.87471 51.42778)</td>\n",
       "    </tr>\n",
       "  </tbody>\n",
       "</table>\n",
       "</div>"
      ],
      "text/plain": [
       "                       name          city postalCode                address  \\\n",
       "0        Grosse Freiheit 36       Hamburg      22767     Grosse Freiheit 36   \n",
       "1                 Gruenspan       Hamburg      22767     Grosse Freiheit 58   \n",
       "2         Huxleys Neue Welt        Berlin      10967   Hasenheide 107 – 113   \n",
       "3           Zentrum am Park  Emmelshausen      56281  Rhein-Mosel-Straße 45   \n",
       "4  Stadthalle (Theatersaal)       Mülheim      45479  Theodor-Heuss-Platz 1   \n",
       "\n",
       "                                                 url  longitude   latitude  \\\n",
       "0            http://www.ticketmaster.de/venue/287636   9.957905  53.551187   \n",
       "1            http://www.ticketmaster.de/venue/287155   9.958075  53.551885   \n",
       "2            http://www.ticketmaster.de/venue/286842  13.421380  52.486391   \n",
       "3  https://www.ticketmaster.de/venue/zentrum-am-p...   7.556560  50.155440   \n",
       "4  https://www.ticketmaster.de/venue/stadthalle-t...   6.874710  51.427780   \n",
       "\n",
       "                    geometry  \n",
       "0   POINT (9.95791 53.55119)  \n",
       "1   POINT (9.95807 53.55188)  \n",
       "2  POINT (13.42138 52.48639)  \n",
       "3   POINT (7.55656 50.15544)  \n",
       "4   POINT (6.87471 51.42778)  "
      ]
     },
     "execution_count": 20,
     "metadata": {},
     "output_type": "execute_result"
    }
   ],
   "source": [
    "#create a geopandas data frame\n",
    "geo_df=gpd.GeoDataFrame(venues_de, crs=crs, geometry=geometry)\n",
    "geo_df.head()"
   ]
  },
  {
   "cell_type": "code",
   "execution_count": 21,
   "metadata": {},
   "outputs": [
    {
     "data": {
      "text/plain": [
       "<AxesSubplot:>"
      ]
     },
     "execution_count": 21,
     "metadata": {},
     "output_type": "execute_result"
    },
    {
     "data": {
      "image/png": "[encoded data removed]",
      "text/plain": [
       "<Figure size 640x480 with 1 Axes>"
      ]
     },
     "metadata": {},
     "output_type": "display_data"
    }
   ],
   "source": [
    "#check if the created points work\n",
    "geo_df.plot()"
   ]
  },
  {
   "cell_type": "code",
   "execution_count": 22,
   "metadata": {},
   "outputs": [
    {
     "data": {
      "image/png": "[encoded data removed]",
      "text/plain": [
       "<Figure size 700x700 with 1 Axes>"
      ]
     },
     "metadata": {},
     "output_type": "display_data"
    }
   ],
   "source": [
    "fig,ax=plt.subplots(figsize=(7,7))\n",
    "\n",
    "# get a base map of Germany\n",
    "map = gpd.read_file(gpd.datasets.get_path(\"naturalearth_lowres\"))\n",
    "map = map[map.name == \"Germany\"]\n",
    "# plot the map\n",
    "map.plot(ax = ax, color='grey',alpha=1,linewidth=1,cmap='cividis',zorder=1)\n",
    "# add geodata to to the map\n",
    "geo_df.plot(ax=ax,color='red',markersize=1,zorder=2)\n",
    "#add title\n",
    "plt.title('Event locations across Germany')\n",
    "\n",
    "plt.show()\n"
   ]
  },
  {
   "attachments": {},
   "cell_type": "markdown",
   "metadata": {},
   "source": [
    "(11) You will find that some coordinates lie way beyond the German borders and can be assumed to be faulty.\n",
    "Set coordinate values to NA where the value of longitude is outside the range (5.866, 15.042) or\n",
    "where the value of latitude is outside the range (47.270, 55.059) (these coordinate ranges have\n",
    "been derived from the extreme points of Germany as listed on Wikipedia (see here). For extreme points\n",
    "of other countries, see here). <br>"
   ]
  },
  {
   "cell_type": "code",
   "execution_count": 23,
   "metadata": {},
   "outputs": [],
   "source": [
    "#set values outside the intervals to NaN\n",
    "venues_de[['longitude','latitude']]=venues_de[['longitude','latitude']].where(((venues_de['longitude']>5.866)&(venues_de['longitude']<15.042))&((venues_de['latitude'] > 47.270) & (venues_de['latitude'] < 55.059)))"
   ]
  },
  {
   "cell_type": "code",
   "execution_count": 24,
   "metadata": {},
   "outputs": [
    {
     "name": "stderr",
     "output_type": "stream",
     "text": [
      "c:\\Users\\chris\\anaconda3\\lib\\site-packages\\pyproj\\crs\\crs.py:53: FutureWarning: '+init=<authority>:<code>' syntax is deprecated. '<authority>:<code>' is the preferred initialization method. When making the change, be mindful of axis order changes: https://pyproj4.github.io/pyproj/stable/gotchas.html#axis-order-changes-in-proj-6\n",
      "  return _prepare_from_string(\" \".join(pjargs))\n"
     ]
    },
    {
     "data": {
      "text/plain": [
       "<AxesSubplot:>"
      ]
     },
     "execution_count": 24,
     "metadata": {},
     "output_type": "execute_result"
    },
    {
     "data": {
      "image/png": "[encoded data removed]",
      "text/plain": [
       "<Figure size 640x480 with 1 Axes>"
      ]
     },
     "metadata": {},
     "output_type": "display_data"
    }
   ],
   "source": [
    "#set values outside the intervals to NaN\n",
    "venues_de[['longitude','latitude']]=venues_de[['longitude','latitude']].where(((venues_de['longitude']>5.866)&(venues_de['longitude']<15.042))&((venues_de['latitude'] > 47.270) & (venues_de['latitude'] < 55.059)))\n",
    "geometry2=[Point(xy) for xy in zip(venues_de['longitude'],venues_de['latitude'])]\n",
    "geo_df2=gpd.GeoDataFrame(venues_de, crs=crs, geometry=geometry2)\n",
    "geo_df2.plot()"
   ]
  },
  {
   "cell_type": "code",
   "execution_count": 25,
   "metadata": {},
   "outputs": [
    {
     "data": {
      "image/png": "[encoded data removed]",
      "text/plain": [
       "<Figure size 700x700 with 1 Axes>"
      ]
     },
     "metadata": {},
     "output_type": "display_data"
    }
   ],
   "source": [
    "fig,ax=plt.subplots(figsize=(7,7))\n",
    "\n",
    "# get a base map of Germany\n",
    "map = gpd.read_file(gpd.datasets.get_path(\"naturalearth_lowres\"))\n",
    "map = map[map.name == \"Germany\"]\n",
    "# plot the map\n",
    "\n",
    "# plot the map\n",
    "base=map.plot(ax = ax, color='grey',alpha=1,linewidth=1,cmap='cividis',zorder=1)\n",
    "# add geodata to to the map\n",
    "geo_df2.plot(ax=ax,color='red',markersize=1,zorder=2)\n",
    "#add title\n",
    "plt.title('Event locations across Germany')\n",
    "\n",
    "plt.show()\n"
   ]
  },
  {
   "attachments": {},
   "cell_type": "markdown",
   "metadata": {},
   "source": [
    "## Event locations in other countries\n",
    "(12) Repeat exercises (9)–(11) for another European country of your choice. (Hint: Clean code pays off! If\n",
    "you have coded the exercises efficiently, only very few adaptions need to be made.)"
   ]
  },
  {
   "cell_type": "code",
   "execution_count": 26,
   "metadata": {},
   "outputs": [
    {
     "name": "stdout",
     "output_type": "stream",
     "text": [
      "[0]\n"
     ]
    }
   ],
   "source": [
    "#exercise 9 country of choice Switzerland ('CountryCode:CH')\n",
    "tickets_ch=requests.get('https://app.ticketmaster.com/discovery/v2/venues',\n",
    "                params = {\"apikey\": api_key1, \"countryCode\": \"CH\",'locale':'*','size':499}).json()  \n",
    "vpages_ch=list(range(tickets_ch['page']['totalPages'])) \n",
    "print(vpages_ch)"
   ]
  },
  {
   "cell_type": "code",
   "execution_count": 27,
   "metadata": {},
   "outputs": [],
   "source": [
    "venues_list_ch=[None]*(tickets_ch['page']['totalPages']) \n",
    "for p in vpages_ch:\n",
    "    time.sleep(0.25)\n",
    "    venues_list_ch[p]=requests.get('https://app.ticketmaster.com/discovery/v2/venues',\n",
    "                params = {\"apikey\": api_key1, \"countryCode\": \"CH\",'locale':'*','page':p,'size':499}).json()  "
   ]
  },
  {
   "cell_type": "code",
   "execution_count": 28,
   "metadata": {},
   "outputs": [
    {
     "name": "stdout",
     "output_type": "stream",
     "text": [
      "[]\n",
      "[]\n"
     ]
    }
   ],
   "source": [
    "#find entries in the list with an error message\n",
    "error_pages3=list()\n",
    "for p in vpages_ch:\n",
    "    if '_embedded' in venues_list_ch[p]:\n",
    "        continue\n",
    "    else:\n",
    "        page_index=p\n",
    "        error_pages3.append(page_index)\n",
    "#print the error message\n",
    "print(error_pages3)\n",
    "for i in error_pages3:\n",
    "    print(venues_list_ch[i])\n",
    "#reverse order of error pages\n",
    "error_pages3.reverse()\n",
    "print(error_pages3)\n",
    "venues_list_ch2=venues_list_ch.copy()"
   ]
  },
  {
   "cell_type": "code",
   "execution_count": 29,
   "metadata": {},
   "outputs": [],
   "source": [
    "for i in error_pages3:\n",
    "   venues_list_ch2.pop(i)\n",
    "vpages_ch2=len(venues_list_ch2)\n",
    "vpages_ch2=list(range(vpages_ch2)) "
   ]
  },
  {
   "cell_type": "code",
   "execution_count": 30,
   "metadata": {},
   "outputs": [],
   "source": [
    "#create a new data frame with every page\n",
    "venues_ch=pd.DataFrame()\n",
    "\n",
    "for p in vpages_ch2:\n",
    "    names=[]\n",
    "    city=[]\n",
    "    postal_Code=[]\n",
    "    address=[]\n",
    "    url=[]\n",
    "    longitude=[]\n",
    "    latitude=[]\n",
    "    for i in venues_list_ch2[p]['_embedded']['venues']:\n",
    "        if 'name' in i:\n",
    "            names.append(i['name'])\n",
    "        else:\n",
    "            names.append(np.NaN)\n",
    "        if 'city' in i:\n",
    "            city.append(i['city']['name'])\n",
    "        else:\n",
    "            city.append(np.NaN)            \n",
    "        if 'postalCode' in i:\n",
    "            postal_Code.append(i['postalCode'])\n",
    "        else:\n",
    "            postal_Code.append('N/A')\n",
    "        if 'address' in i:\n",
    "            if 'line1' in i['address']:\n",
    "                address.append(i['address']['line1'])\n",
    "            else:\n",
    "                address.append(np.NaN)    \n",
    "        else:\n",
    "            address.append(np.NaN)\n",
    "        if 'url' in i:\n",
    "            url.append(i['url'])\n",
    "        else:\n",
    "            url.append(np.NaN)\n",
    "        if 'location' in i:\n",
    "            longitude.append(i['location']['longitude'])\n",
    "            latitude.append(i['location']['latitude'])\n",
    "        else:\n",
    "            longitude.append(np.NaN)\n",
    "            latitude.append(np.NaN)                    \n",
    "\n",
    "    #store them in a data frame\n",
    "    var_dict={'name':names,\n",
    "            'city':city,\n",
    "            'postalCode':postal_Code,\n",
    "            'address':address,\n",
    "            'url':url,\n",
    "            'longitude':longitude,\n",
    "            'latitude':latitude}\n",
    "    venues_df=pd.DataFrame(var_dict)\n",
    "    venues_ch=pd.concat([venues_ch,venues_df]) \n",
    "    "
   ]
  },
  {
   "cell_type": "code",
   "execution_count": 31,
   "metadata": {},
   "outputs": [
    {
     "data": {
      "text/plain": [
       "(425, 7)"
      ]
     },
     "execution_count": 31,
     "metadata": {},
     "output_type": "execute_result"
    }
   ],
   "source": [
    "venues_ch.shape"
   ]
  },
  {
   "cell_type": "code",
   "execution_count": 32,
   "metadata": {},
   "outputs": [
    {
     "data": {
      "text/plain": [
       "<AxesSubplot:>"
      ]
     },
     "execution_count": 32,
     "metadata": {},
     "output_type": "execute_result"
    },
    {
     "data": {
      "image/png": "[encoded data removed]",
      "text/plain": [
       "<Figure size 700x700 with 1 Axes>"
      ]
     },
     "metadata": {},
     "output_type": "display_data"
    }
   ],
   "source": [
    "#exercise 10\n",
    "fig,ax=plt.subplots(figsize=(7,7))\n",
    "# get a base map of Switzerland\n",
    "map = gpd.read_file(gpd.datasets.get_path(\"naturalearth_lowres\"))\n",
    "map = map[map.name == \"Switzerland\"]\n",
    "# plot the map\n",
    "map.plot(ax = ax, color='grey',alpha=1,linewidth=1,cmap='cividis',zorder=1)"
   ]
  },
  {
   "cell_type": "code",
   "execution_count": 33,
   "metadata": {},
   "outputs": [
    {
     "name": "stderr",
     "output_type": "stream",
     "text": [
      "c:\\Users\\chris\\anaconda3\\lib\\site-packages\\pyproj\\crs\\crs.py:53: FutureWarning: '+init=<authority>:<code>' syntax is deprecated. '<authority>:<code>' is the preferred initialization method. When making the change, be mindful of axis order changes: https://pyproj4.github.io/pyproj/stable/gotchas.html#axis-order-changes-in-proj-6\n",
      "  return _prepare_from_string(\" \".join(pjargs))\n"
     ]
    },
    {
     "data": {
      "text/plain": [
       "<AxesSubplot:>"
      ]
     },
     "execution_count": 33,
     "metadata": {},
     "output_type": "execute_result"
    },
    {
     "data": {
      "image/png": "[encoded data removed]",
      "text/plain": [
       "<Figure size 640x480 with 1 Axes>"
      ]
     },
     "metadata": {},
     "output_type": "display_data"
    }
   ],
   "source": [
    "venues_ch['longitude'] = pd.to_numeric(venues_ch['longitude'])\n",
    "venues_ch['latitude'] = pd.to_numeric(venues_ch['latitude'])\n",
    "geometry3=[Point(xy) for xy in zip(venues_ch['longitude'],venues_ch['latitude'])]\n",
    "geo_df3=gpd.GeoDataFrame(venues_ch, crs=crs, geometry=geometry3)\n",
    "geo_df3.plot()\n"
   ]
  },
  {
   "cell_type": "code",
   "execution_count": 34,
   "metadata": {},
   "outputs": [
    {
     "data": {
      "image/png": "[encoded data removed]",
      "text/plain": [
       "<Figure size 700x700 with 1 Axes>"
      ]
     },
     "metadata": {},
     "output_type": "display_data"
    }
   ],
   "source": [
    "fig,ax=plt.subplots(figsize=(7,7))\n",
    "# get a base map of Switzerland\n",
    "map = gpd.read_file(gpd.datasets.get_path(\"naturalearth_lowres\"))\n",
    "map = map[map.name == \"Switzerland\"]\n",
    "# plot the map\n",
    "map.plot(ax = ax, color='grey',alpha=1,linewidth=1,cmap='cividis',zorder=1)\n",
    "#add the points\n",
    "geo_df3.plot(ax=ax,color='red',markersize=1,zorder=2)\n",
    "#add title\n",
    "plt.title('Event locations across Switzerland')\n",
    "\n",
    "plt.show()"
   ]
  },
  {
   "attachments": {},
   "cell_type": "markdown",
   "metadata": {},
   "source": [
    "Extreme points for switzerland: \n",
    "* Longitude : [5.57, 10.29]\n",
    "* Latitude: [45.49, 47.48}"
   ]
  },
  {
   "cell_type": "code",
   "execution_count": 35,
   "metadata": {},
   "outputs": [
    {
     "name": "stderr",
     "output_type": "stream",
     "text": [
      "c:\\Users\\chris\\anaconda3\\lib\\site-packages\\pyproj\\crs\\crs.py:53: FutureWarning: '+init=<authority>:<code>' syntax is deprecated. '<authority>:<code>' is the preferred initialization method. When making the change, be mindful of axis order changes: https://pyproj4.github.io/pyproj/stable/gotchas.html#axis-order-changes-in-proj-6\n",
      "  return _prepare_from_string(\" \".join(pjargs))\n"
     ]
    },
    {
     "data": {
      "text/plain": [
       "<AxesSubplot:>"
      ]
     },
     "execution_count": 35,
     "metadata": {},
     "output_type": "execute_result"
    },
    {
     "data": {
      "image/png": "[encoded data removed]",
      "text/plain": [
       "<Figure size 640x480 with 1 Axes>"
      ]
     },
     "metadata": {},
     "output_type": "display_data"
    }
   ],
   "source": [
    "#set values outside the intervals to NaN\n",
    "venues_ch[['longitude','latitude']]=venues_ch[['longitude','latitude']].where(((venues_ch['longitude']>5.57)&(venues_ch['longitude']<10.29))&((venues_ch['latitude'] > 45.49) & (venues_ch['latitude'] < 47.48)))\n",
    "geometry4=[Point(xy) for xy in zip(venues_ch['longitude'],venues_ch['latitude'])]\n",
    "geo_df4=gpd.GeoDataFrame(venues_ch, crs=crs, geometry=geometry4)\n",
    "geo_df4.plot()"
   ]
  },
  {
   "cell_type": "code",
   "execution_count": 36,
   "metadata": {},
   "outputs": [
    {
     "data": {
      "image/png": "[encoded data removed]",
      "text/plain": [
       "<Figure size 700x700 with 1 Axes>"
      ]
     },
     "metadata": {},
     "output_type": "display_data"
    }
   ],
   "source": [
    "fig,ax=plt.subplots(figsize=(7,7))\n",
    "# get a base map of Switzerland\n",
    "map = gpd.read_file(gpd.datasets.get_path(\"naturalearth_lowres\"))\n",
    "map = map[map.name == \"Switzerland\"]\n",
    "# plot the map\n",
    "map.plot(ax = ax, color='grey',alpha=1,linewidth=1,cmap='cividis',zorder=1)\n",
    "#add the points\n",
    "geo_df4.plot(ax=ax,color='red',markersize=1,zorder=2)\n",
    "#add title\n",
    "plt.title('Event locations across Germany')\n",
    "\n",
    "plt.show()"
   ]
  }
 ],
 "metadata": {
  "kernelspec": {
   "display_name": "base",
   "language": "python",
   "name": "python3"
  },
  "language_info": {
   "codemirror_mode": {
    "name": "ipython",
    "version": 3
   },
   "file_extension": ".py",
   "mimetype": "text/x-python",
   "name": "python",
   "nbconvert_exporter": "python",
   "pygments_lexer": "ipython3",
   "version": "3.9.13"
  },
  "orig_nbformat": 4,
  "vscode": {
   "interpreter": {
    "hash": "fb833273add3e7c60eb33c0608260b79a61e072ade6f02cc8d07b0a26eef8ab8"
   }
  }
 },
 "nbformat": 4,
 "nbformat_minor": 2
}
